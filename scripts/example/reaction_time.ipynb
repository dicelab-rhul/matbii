{
 "cells": [
  {
   "cell_type": "markdown",
   "metadata": {},
   "source": [
    "Example showing how to compute different reaction times in the system monitoring task."
   ]
  },
  {
   "cell_type": "code",
   "execution_count": 1,
   "metadata": {},
   "outputs": [
    {
     "name": "stderr",
     "output_type": "stream",
     "text": [
      "c:\\Users\\brjw\\anaconda3\\envs\\star-ray\\lib\\site-packages\\tqdm\\auto.py:21: TqdmWarning: IProgress not found. Please update jupyter and ipywidgets. See https://ipywidgets.readthedocs.io/en/stable/user_install.html\n",
      "  from .autonotebook import tqdm as notebook_tqdm\n",
      "2024-11-01 16:59:55,492\tINFO util.py:154 -- Missing packages: ['ipywidgets']. Run `pip install -U ipywidgets`, then restart the notebook server for rich notebook output.\n",
      "DEBUG: Checking libcairo installation...\n"
     ]
    },
    {
     "name": "stdout",
     "output_type": "stream",
     "text": [
      "DEBUG | C:\\Users\\brjw\\Documents\\repos\\dicelab\\matbii\\matbii\\utils\\_const.py:11 | `matbii` package path: C:/Users/brjw/Documents/repos/dicelab/matbii/matbii\n",
      "DEBUG | C:\\Users\\brjw\\Documents\\repos\\dicelab\\matbii\\matbii\\utils\\_const.py:19 | Checking tracking path: C:/Users/brjw/Documents/repos/dicelab/matbii/matbii/tasks/tracking\n",
      "DEBUG | C:\\Users\\brjw\\Documents\\repos\\dicelab\\matbii\\matbii\\utils\\_const.py:19 | Checking system_monitoring path: C:/Users/brjw/Documents/repos/dicelab/matbii/matbii/tasks/system_monitoring\n",
      "DEBUG | C:\\Users\\brjw\\Documents\\repos\\dicelab\\matbii\\matbii\\utils\\_const.py:19 | Checking resource_management path: C:/Users/brjw/Documents/repos/dicelab/matbii/matbii/tasks/resource_management\n"
     ]
    },
    {
     "name": "stderr",
     "output_type": "stream",
     "text": [
      "DEBUG: user input types: (<class 'star_ray_pygame.event.MouseButtonEvent'>, <class 'star_ray_pygame.event.MouseMotionEvent'>, <class 'star_ray.event.user_event.keyevent.KeyEvent'>, <class 'star_ray.event.user_event.windowevent.WindowCloseEvent'>, <class 'star_ray.event.user_event.windowevent.WindowOpenEvent'>, <class 'star_ray.event.user_event.windowevent.WindowFocusEvent'>, <class 'star_ray.event.user_event.windowevent.WindowMoveEvent'>, <class 'star_ray.event.user_event.windowevent.WindowResizeEvent'>)\n",
      "C:\\Users\\brjw\\Documents\\repos\\dicelab\\matbii\\matbii\\extras\\analysis\\get_task.py:189: UserWarning: Error sensing data for event 0 of type <class 'star_ray_xml.query.Update'>.\n",
      "  warnings.warn(\n"
     ]
    }
   ],
   "source": [
    "\n",
    "from matbii.extras.analysis import (\n",
    "    EventLogParser,\n",
    "    get_system_monitoring_task_events,\n",
    "    get_acceptable_intervals,\n",
    "    isin_intervals,\n",
    ")\n",
    "\n",
    "TRACKING_COLOR = \"#4363d8\"\n",
    "RESOURCE_MANAGEMENT_COLOR = \"#3cb44b\"\n",
    "SYSTEM_MONITORING_COLOR = \"#e6194B\"\n",
    "\n",
    "\n",
    "# choose your own event log file\n",
    "path = \"example_logs/system_monitoring.log\" \n",
    "parser = EventLogParser()\n",
    "parser.discover_event_classes(\"matbii\")\n",
    "events = list(parser.parse(path))\n",
    "\n",
    "# To compute the reaction time for a task, we need:\n",
    "# 1. when the tasks was in acceptable/unacceptable state\n",
    "# 2. when the mouse or keyboard was pressed for the given task\n",
    "# We will do this for the system monitoring task here.\n",
    "\n",
    "# 1. Get when the task was in an acceptable state\n",
    "acceptable_intervals = dict(get_acceptable_intervals(events))[\"system_monitoring\"]\n",
    "# `acceptable_intervals` contains N pairs (t1, t2) which are logging timestamps recording when the guidance agent judged the task to be acceptable.\n",
    "\n",
    "# 2. Get the relevant task data\n",
    "df = get_system_monitoring_task_events(parser, events)\n",
    "# `df` is a pandas DataFrame that contains a running update of the state of the task (one entry each time the task state was changed).\n"
   ]
  },
  {
   "cell_type": "markdown",
   "metadata": {},
   "source": [
    "NOTE: There may be small discrepencies in whether the state was actually acceptable(according to its state). This is because the guidance agent is working from observations, which may be outdated from the users perspective if an update happens after it has made the observation but BEFORE the avatar renders (advancing to the next frame).\n",
    "\n",
    "## Simple Reaction Time\n",
    "The simplest reaction time is just the time it takes for the task to go from unacceptable to acceptable. We need to check that it was actually the user who made this change.\n",
    "\n",
    "First, lets plot the timestamps as a sanity check.\n"
   ]
  },
  {
   "cell_type": "code",
   "execution_count": 7,
   "metadata": {},
   "outputs": [
    {
     "data": {
      "image/png": "[encoded data removed]",
      "text/plain": [
       "<Figure size 2000x200 with 1 Axes>"
      ]
     },
     "metadata": {},
     "output_type": "display_data"
    }
   ],
   "source": [
    "\n",
    "from matplotlib import pyplot as plt\n",
    "from icua.extras.analysis.plot import plot_timestamps, plot_intervals\n",
    "\n",
    "fig, ax = plt.subplots(figsize=(20, 2))\n",
    "# plot the acceptable intervals\n",
    "fig = plot_intervals(acceptable_intervals, color=SYSTEM_MONITORING_COLOR, alpha=0.1, ax=ax)\n",
    "# plot the timestamps for the task changed its state due to the task specific agent.\n",
    "fig = plot_timestamps(df[\"timestamp\"][~df[\"user\"]], color=SYSTEM_MONITORING_COLOR, ax=ax)\n",
    "# plot the timestamps for the task changed its state due to the user.\n",
    "fig = plot_timestamps(df[\"timestamp\"][df[\"user\"]], color=\"blue\", ax=ax)"
   ]
  },
  {
   "cell_type": "markdown",
   "metadata": {},
   "source": [
    "The first \"red\" event in the plot shows the time at which the task was added to the simulation. Subsequent \"red\" events show when the task state was changed by the task specific agent (according to its schedule).\n",
    "\n",
    "The \"blue\" events show when the user changed the task state by interacting with it (via clicks in this case).\n"
   ]
  },
  {
   "cell_type": "code",
   "execution_count": null,
   "metadata": {},
   "outputs": [],
   "source": [
    "\n",
    "# Questions for szonya. \n",
    "# - Do we want to check the acceptability of all subtasks? \n",
    "#"
   ]
  }
 ],
 "metadata": {
  "kernelspec": {
   "display_name": "star-ray",
   "language": "python",
   "name": "python3"
  },
  "language_info": {
   "codemirror_mode": {
    "name": "ipython",
    "version": 3
   },
   "file_extension": ".py",
   "mimetype": "text/x-python",
   "name": "python",
   "nbconvert_exporter": "python",
   "pygments_lexer": "ipython3",
   "version": "3.10.14"
  }
 },
 "nbformat": 4,
 "nbformat_minor": 2
}
